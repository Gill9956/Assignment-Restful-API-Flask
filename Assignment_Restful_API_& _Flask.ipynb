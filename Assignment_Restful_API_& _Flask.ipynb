{
 "cells": [
  {
   "cell_type": "markdown",
   "id": "93665bdb",
   "metadata": {},
   "source": [
    "# Assignment : Restful API & Flask"
   ]
  },
  {
   "cell_type": "markdown",
   "id": "70e6a236",
   "metadata": {},
   "source": [
    "## Theory Questions\n"
   ]
  },
  {
   "cell_type": "markdown",
   "id": "e4c9eacb",
   "metadata": {},
   "source": [
    "#### Question 1: What is a RESTful API?\n",
    "\n",
    "#### Answer 1:\n",
    " A RESTful API is an architectural style for designing networked applications. It uses HTTP requests to access and manipulate data, following principles like statelessness, client-server architecture, and using standard HTTP methods (GET, POST, PUT, DELETE). It operates on resources, with each resource identified by a URL, and the operations on them are represented by HTTP methods.\n",
    "\n",
    "------------------------------------"
   ]
  },
  {
   "cell_type": "markdown",
   "id": "efa48b62",
   "metadata": {},
   "source": [
    "#### Question 2: Explain the concept of API specification:\n",
    "\n",
    "#### Answer 2:\n",
    " An API specification is a document that defines the endpoints, methods, inputs, and outputs of an API. It provides a clear and structured way to describe how clients should interact with the API and what to expect in terms of responses. Common formats include OpenAPI (Swagger) and RAML.\n",
    "\n",
    "------------------------------------"
   ]
  },
  {
   "cell_type": "markdown",
   "id": "9dc98688",
   "metadata": {},
   "source": [
    "#### Question 3: What is Flask, and why is it popular for building APIs?\n",
    "\n",
    "#### Answer 3:\n",
    " Flask is a lightweight Python web framework used to build web applications, including APIs. It is popular because of its simplicity, flexibility, and minimalistic design, which makes it easy for developers to build small to medium-sized APIs without unnecessary complexity.\n",
    "\n",
    "--------------------------------"
   ]
  },
  {
   "cell_type": "markdown",
   "id": "e37d98ba",
   "metadata": {},
   "source": [
    "#### Question 4: What is routing in Flask?\n",
    "\n",
    "#### Answer 4:\n",
    " Routing in Flask refers to the process of mapping URLs to specific functions in your application. Each route defines an endpoint, and the associated function handles the request made to that endpoint.\n",
    "\n",
    "------------------------------------"
   ]
  },
  {
   "cell_type": "markdown",
   "id": "81e29da2",
   "metadata": {},
   "source": [
    "#### Question 5: How do you create a simple Flask application?\n",
    "\n",
    "#### Answer 5: A basic Flask application can be created with just a few lines of code. You import Flask, create an app instance, define routes, and run the app."
   ]
  },
  {
   "cell_type": "code",
   "execution_count": null,
   "id": "648c38ac",
   "metadata": {
    "vscode": {
     "languageId": "plaintext"
    }
   },
   "outputs": [],
   "source": [
    "from flask import Flask\n",
    "app = Flask(__name__)\n",
    "\n",
    "@app.route('/')\n",
    "def hello():\n",
    "    return 'Hello, World!'\n",
    "\n",
    "if __name__ == '__main__':\n",
    "    app.run()\n"
   ]
  },
  {
   "cell_type": "markdown",
   "id": "3b509d18",
   "metadata": {},
   "source": [
    "----------------------------------"
   ]
  },
  {
   "cell_type": "markdown",
   "id": "33c120eb",
   "metadata": {},
   "source": [
    "#### Question 6: What are HTTP methods used in RESTful APIs?\n",
    "\n",
    "#### Answer 6:\n",
    " HTTP methods are used to perform different actions on resources in a RESTful API. Common methods include:\n",
    "\n",
    "  GET: Retrieve data.\n",
    "\n",
    "  POST: Create a new resource.\n",
    "\n",
    "  PUT: Update an existing resource.\n",
    "\n",
    "  DELETE: Delete a resource.\n",
    "\n",
    "------------------------------------"
   ]
  },
  {
   "cell_type": "markdown",
   "id": "2919a483",
   "metadata": {},
   "source": [
    "#### Question 7 : What is the purpose of the @app.route() decorator in Flask?\n",
    "\n",
    "#### Answer 7:\n",
    " The @app.route() decorator is used to define routes in a Flask application. It binds a function to a specific URL, so when that URL is accessed, the corresponding function is executed.\n",
    "\n",
    "------------------------------------"
   ]
  },
  {
   "cell_type": "markdown",
   "id": "bae82103",
   "metadata": {},
   "source": [
    "#### Question 8: What is the difference between GET and POST HTTP methods?\n",
    "\n",
    "#### Answer 8:\n",
    "  GET: Used to retrieve data from a server. It is safe and idempotent, meaning it does not modify any data.\n",
    "\n",
    "  POST: Used to send data to the server to create a new resource. It can modify data on the server.\n",
    "\n",
    "-----------------------------------"
   ]
  },
  {
   "cell_type": "markdown",
   "id": "157c0f3c",
   "metadata": {},
   "source": [
    "#### Question 9: How do you handle errors in Flask APIs?\n",
    "\n",
    "#### Answer 9:\n",
    " Flask provides error handling through custom error pages or using the @app.errorhandler() decorator to handle specific HTTP errors like 404 or 500. You can also use abort() to raise an error explicitly.\n",
    "\n",
    "------------------------------------"
   ]
  },
  {
   "cell_type": "markdown",
   "id": "f2a76dd6",
   "metadata": {},
   "source": [
    "#### Question 10: How do you connect Flask to a SQL database?\n",
    "\n",
    "#### Answer 10:\n",
    " Flask can be connected to SQL databases using libraries like SQLAlchemy. You define models as classes, and Flask interacts with the database via queries and transactions.\n",
    "\n",
    "-----------------------------------"
   ]
  },
  {
   "cell_type": "markdown",
   "id": "34b84b76",
   "metadata": {},
   "source": [
    "#### Question 11: What is the role of Flask-SQLAlchemy?\n",
    "\n",
    "#### Answer 11:\n",
    " Flask-SQLAlchemy is an extension for Flask that simplifies integrating SQLAlchemy with Flask. It provides ORM (Object Relational Mapping) support, making database interactions easier and more Pythonic.\n",
    "\n",
    "----------------------------------"
   ]
  },
  {
   "cell_type": "markdown",
   "id": "b37ae811",
   "metadata": {},
   "source": [
    "#### Question 12: What are Flask blueprints, and how are they useful?\n",
    "\n",
    "#### Answer 12:\n",
    " Flask blueprints allow you to organize your application into modules or components. This makes it easier to maintain and scale large applications. Each blueprint can define routes, templates, and other functionality.\n",
    "\n",
    "------------------------------------"
   ]
  },
  {
   "cell_type": "markdown",
   "id": "7ebff0ea",
   "metadata": {},
   "source": [
    "#### Question 13: What is the purpose of Flask's request object?\n",
    "\n",
    "#### Answer 13:\n",
    " The request object in Flask is used to access the data sent with an HTTP request, such as form data, query parameters, or headers.\n",
    "\n",
    "-----------------------------------"
   ]
  },
  {
   "cell_type": "markdown",
   "id": "a3bb7975",
   "metadata": {},
   "source": [
    "#### Question 14: How do you create a RESTful API endpoint using Flask?\n",
    "\n",
    "#### Answer 14:\n",
    " You create an endpoint by defining a route and associating it with a function that will handle the request and return a response."
   ]
  },
  {
   "cell_type": "code",
   "execution_count": null,
   "id": "56ed5f5d",
   "metadata": {
    "vscode": {
     "languageId": "plaintext"
    }
   },
   "outputs": [],
   "source": [
    "@app.route('/api/data', methods=['GET'])\n",
    "def get_data():\n",
    "    return jsonify({'data': 'value'})\n"
   ]
  },
  {
   "cell_type": "markdown",
   "id": "783ea5d8",
   "metadata": {},
   "source": [
    "-------------------------------"
   ]
  },
  {
   "cell_type": "markdown",
   "id": "baaaf0d6",
   "metadata": {},
   "source": [
    "#### Question 15: What is the purpose of Flask's jsonify() function?\n",
    "\n",
    "#### Answer 15:\n",
    " The jsonify() function in Flask converts Python dictionaries (or other structures) into JSON responses, making it easier to return data from an API endpoint in JSON format.\n",
    "\n",
    "------------------------------------"
   ]
  },
  {
   "cell_type": "markdown",
   "id": "24e928ae",
   "metadata": {},
   "source": [
    "#### Question 16: Explain Flask’s url_for() function:\n",
    "\n",
    "#### Answer 16:\n",
    " url_for() is used to generate URLs for a given endpoint. It is particularly useful when creating links or redirects dynamically, especially when the URL pattern might change in the future.\n",
    "\n",
    " Example :url_for('hello')  # Generates URL for the 'hello' route\n",
    "\n",
    "----------------------------------"
   ]
  },
  {
   "cell_type": "markdown",
   "id": "316ec059",
   "metadata": {},
   "source": [
    "#### Question 17: How does Flask handle static files (CSS, JavaScript, etc.)?\n",
    "\n",
    "#### Answer 17:\n",
    " Flask serves static files from a special directory named static. You can place files like CSS, JavaScript, and images in this directory, and they will be accessible via the /static/ URL path.\n",
    "\n",
    "------------------------------------"
   ]
  },
  {
   "cell_type": "markdown",
   "id": "3d842027",
   "metadata": {},
   "source": [
    "#### Question 18\": What is an API specification, and how does it help in building a Flask API?\n",
    "\n",
    "#### Answer 18:\n",
    " An API specification outlines the endpoints, methods, parameters, and responses of an API. It helps developers understand how to interact with the API, ensuring consistency and making it easier to document and test.\n",
    "\n",
    "------------------------------------"
   ]
  },
  {
   "cell_type": "markdown",
   "id": "b74bae76",
   "metadata": {},
   "source": [
    "#### Question 19: What are HTTP status codes, and why are they important in a Flask API?\n",
    "\n",
    "#### Answer 19:\n",
    " HTTP status codes indicate the outcome of an API request. Common codes include:\n",
    "\n",
    " 200: OK (successful request).\n",
    "\n",
    " 404: Not Found (resource does not exist).\n",
    "\n",
    " 500: Internal Server Error.\n",
    "\n",
    " They help clients understand the result of their requests.\n",
    "\n",
    "\n",
    "----------------------------------------------------\n"
   ]
  },
  {
   "cell_type": "markdown",
   "id": "0f56fb2d",
   "metadata": {},
   "source": [
    "#### Question 20: How do you handle POST requests in Flask?\n",
    "\n",
    "#### Answer 20:\n",
    " In Flask, you can handle POST requests by defining a route and specifying the methods=['POST'] argument."
   ]
  },
  {
   "cell_type": "code",
   "execution_count": null,
   "id": "3ded38eb",
   "metadata": {
    "vscode": {
     "languageId": "plaintext"
    }
   },
   "outputs": [],
   "source": [
    "@app.route('/submit', methods=['POST'])\n",
    "def submit():\n",
    "    data = request.form['data']\n",
    "    return jsonify({'received': data})\n"
   ]
  },
  {
   "cell_type": "markdown",
   "id": "bf5ccc0a",
   "metadata": {},
   "source": [
    "------------------------------------------------------"
   ]
  },
  {
   "cell_type": "markdown",
   "id": "ed55caf9",
   "metadata": {},
   "source": [
    "#### Question 21:How would you secure a Flask API?\n",
    "\n",
    "#### Answer 21:\n",
    " Flask APIs can be secured using authentication methods such as:\n",
    "\n",
    " JWT (JSON Web Tokens) for token-based authentication.\n",
    "\n",
    " Basic Auth or OAuth.\n",
    "\n",
    " Ensuring HTTPS is used for communication.\n",
    "\n",
    "---------------------------------------------------------\n",
    "\n"
   ]
  },
  {
   "cell_type": "markdown",
   "id": "2a4ded0c",
   "metadata": {},
   "source": [
    "#### Question 22: What is the significance of the Flask-RESTful extension?\n",
    "\n",
    "#### Answer 22:\n",
    " Flask-RESTful is an extension that simplifies building REST APIs in Flask by providing tools like automatic handling of HTTP methods, easy response formatting, and input validation\n",
    "\n",
    "---------------------------------------------"
   ]
  },
  {
   "cell_type": "markdown",
   "id": "ffa42240",
   "metadata": {},
   "source": [
    "#### Question 23: What is the role of Flask’s session object?\n",
    "\n",
    "#### Answer 23:\n",
    " Flask’s session object is used to store information specific to a user session, such as authentication status or temporary data. It allows data to persist between requests for the same user.\n",
    "\n",
    "-----------------------------------------------------"
   ]
  }
 ],
 "metadata": {
  "language_info": {
   "name": "python"
  }
 },
 "nbformat": 4,
 "nbformat_minor": 5
}
